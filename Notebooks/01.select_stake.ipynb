{
 "cells": [
  {
   "cell_type": "code",
   "execution_count": 1,
   "metadata": {},
   "outputs": [],
   "source": [
    "import pandas as pd\n",
    "import matplotlib.pyplot as plt\n",
    "import warnings\n",
    "warnings.filterwarnings('ignore')"
   ]
  },
  {
   "cell_type": "code",
   "execution_count": 2,
   "metadata": {},
   "outputs": [],
   "source": [
    "cs_file = '../data/Mass_balance.tab'\n",
    "dfmb = pd.read_csv(cs_file, delimiter='\\t')\n",
    "dfmb.rename(columns = {'Event':'Stake', 'Date/Time':'Date', \n",
    "                      'Elevation [m]':'Elevation', 'Diff':'SMB'}, inplace=True)\n",
    "dfmb['Date'] = pd.to_datetime(dfmb['Date'])"
   ]
  },
  {
   "cell_type": "code",
   "execution_count": 3,
   "metadata": {},
   "outputs": [
    {
     "data": {
      "text/plain": [
       "19"
      ]
     },
     "execution_count": 3,
     "metadata": {},
     "output_type": "execute_result"
    }
   ],
   "source": [
    "labels = dfmb.drop_duplicates(subset=['Stake'])\n",
    "len(labels)"
   ]
  },
  {
   "cell_type": "code",
   "execution_count": 4,
   "metadata": {},
   "outputs": [],
   "source": [
    "smb_four = []\n",
    "for i in labels['Stake']:\n",
    "    subset = dfmb.loc[lambda df: df['Stake'] == i, :]\n",
    "    date_2 = []\n",
    "    date_2.append(subset.Date[subset.index[0]])\n",
    "    for j in subset.Date[0:-1]:\n",
    "        date_2.append(j)\n",
    "    subset['Date1'] = date_2\n",
    "    subset['Days'] = (subset['Date'] - subset['Date1']).dt.days\n",
    "    subset = subset[['Stake', 'Date', 'Date1','Latitude', 'Longitude', \n",
    "                     'Elevation', 'Days', 'SMB']]\n",
    "    smb_four.append(subset)"
   ]
  },
  {
   "cell_type": "code",
   "execution_count": 5,
   "metadata": {},
   "outputs": [
    {
     "data": {
      "text/html": [
       "<div>\n",
       "<style scoped>\n",
       "    .dataframe tbody tr th:only-of-type {\n",
       "        vertical-align: middle;\n",
       "    }\n",
       "\n",
       "    .dataframe tbody tr th {\n",
       "        vertical-align: top;\n",
       "    }\n",
       "\n",
       "    .dataframe thead th {\n",
       "        text-align: right;\n",
       "    }\n",
       "</style>\n",
       "<table border=\"1\" class=\"dataframe\">\n",
       "  <thead>\n",
       "    <tr style=\"text-align: right;\">\n",
       "      <th></th>\n",
       "      <th>Stake</th>\n",
       "      <th>Date</th>\n",
       "      <th>Date1</th>\n",
       "      <th>Latitude</th>\n",
       "      <th>Longitude</th>\n",
       "      <th>Elevation</th>\n",
       "      <th>Days</th>\n",
       "      <th>SMB</th>\n",
       "    </tr>\n",
       "  </thead>\n",
       "  <tbody>\n",
       "    <tr>\n",
       "      <th>0</th>\n",
       "      <td>PG01</td>\n",
       "      <td>2011-03-02</td>\n",
       "      <td>2011-03-02</td>\n",
       "      <td>-62.201488</td>\n",
       "      <td>-58.583236</td>\n",
       "      <td>435.7</td>\n",
       "      <td>0</td>\n",
       "      <td>3.14</td>\n",
       "    </tr>\n",
       "    <tr>\n",
       "      <th>1</th>\n",
       "      <td>PG01</td>\n",
       "      <td>2011-03-07</td>\n",
       "      <td>2011-03-02</td>\n",
       "      <td>-62.201488</td>\n",
       "      <td>-58.583236</td>\n",
       "      <td>435.7</td>\n",
       "      <td>5</td>\n",
       "      <td>-3.03</td>\n",
       "    </tr>\n",
       "    <tr>\n",
       "      <th>2</th>\n",
       "      <td>PG01</td>\n",
       "      <td>2011-03-09</td>\n",
       "      <td>2011-03-07</td>\n",
       "      <td>-62.201488</td>\n",
       "      <td>-58.583236</td>\n",
       "      <td>435.7</td>\n",
       "      <td>2</td>\n",
       "      <td>0.10</td>\n",
       "    </tr>\n",
       "    <tr>\n",
       "      <th>3</th>\n",
       "      <td>PG01</td>\n",
       "      <td>2013-02-11</td>\n",
       "      <td>2011-03-09</td>\n",
       "      <td>-62.201488</td>\n",
       "      <td>-58.583236</td>\n",
       "      <td>435.7</td>\n",
       "      <td>705</td>\n",
       "      <td>0.05</td>\n",
       "    </tr>\n",
       "    <tr>\n",
       "      <th>4</th>\n",
       "      <td>PG01</td>\n",
       "      <td>2013-02-19</td>\n",
       "      <td>2013-02-11</td>\n",
       "      <td>-62.201488</td>\n",
       "      <td>-58.583236</td>\n",
       "      <td>435.7</td>\n",
       "      <td>8</td>\n",
       "      <td>-0.08</td>\n",
       "    </tr>\n",
       "    <tr>\n",
       "      <th>...</th>\n",
       "      <td>...</td>\n",
       "      <td>...</td>\n",
       "      <td>...</td>\n",
       "      <td>...</td>\n",
       "      <td>...</td>\n",
       "      <td>...</td>\n",
       "      <td>...</td>\n",
       "      <td>...</td>\n",
       "    </tr>\n",
       "    <tr>\n",
       "      <th>1307</th>\n",
       "      <td>PG19</td>\n",
       "      <td>2016-02-17</td>\n",
       "      <td>2016-01-04</td>\n",
       "      <td>-62.237672</td>\n",
       "      <td>-58.633624</td>\n",
       "      <td>96.8</td>\n",
       "      <td>44</td>\n",
       "      <td>-0.43</td>\n",
       "    </tr>\n",
       "    <tr>\n",
       "      <th>1308</th>\n",
       "      <td>PG19</td>\n",
       "      <td>2016-02-25</td>\n",
       "      <td>2016-02-17</td>\n",
       "      <td>-62.237672</td>\n",
       "      <td>-58.633624</td>\n",
       "      <td>96.8</td>\n",
       "      <td>8</td>\n",
       "      <td>-0.20</td>\n",
       "    </tr>\n",
       "    <tr>\n",
       "      <th>1309</th>\n",
       "      <td>PG19</td>\n",
       "      <td>2016-03-10</td>\n",
       "      <td>2016-02-25</td>\n",
       "      <td>-62.237672</td>\n",
       "      <td>-58.633624</td>\n",
       "      <td>96.8</td>\n",
       "      <td>14</td>\n",
       "      <td>-0.45</td>\n",
       "    </tr>\n",
       "    <tr>\n",
       "      <th>1310</th>\n",
       "      <td>PG19</td>\n",
       "      <td>2016-04-08</td>\n",
       "      <td>2016-03-10</td>\n",
       "      <td>-62.237672</td>\n",
       "      <td>-58.633624</td>\n",
       "      <td>96.8</td>\n",
       "      <td>29</td>\n",
       "      <td>-0.48</td>\n",
       "    </tr>\n",
       "    <tr>\n",
       "      <th>1311</th>\n",
       "      <td>PG19</td>\n",
       "      <td>2016-04-23</td>\n",
       "      <td>2016-04-08</td>\n",
       "      <td>-62.237672</td>\n",
       "      <td>-58.633624</td>\n",
       "      <td>96.8</td>\n",
       "      <td>15</td>\n",
       "      <td>0.51</td>\n",
       "    </tr>\n",
       "  </tbody>\n",
       "</table>\n",
       "<p>1312 rows × 8 columns</p>\n",
       "</div>"
      ],
      "text/plain": [
       "     Stake       Date      Date1   Latitude  Longitude  Elevation  Days   SMB\n",
       "0     PG01 2011-03-02 2011-03-02 -62.201488 -58.583236      435.7     0  3.14\n",
       "1     PG01 2011-03-07 2011-03-02 -62.201488 -58.583236      435.7     5 -3.03\n",
       "2     PG01 2011-03-09 2011-03-07 -62.201488 -58.583236      435.7     2  0.10\n",
       "3     PG01 2013-02-11 2011-03-09 -62.201488 -58.583236      435.7   705  0.05\n",
       "4     PG01 2013-02-19 2013-02-11 -62.201488 -58.583236      435.7     8 -0.08\n",
       "...    ...        ...        ...        ...        ...        ...   ...   ...\n",
       "1307  PG19 2016-02-17 2016-01-04 -62.237672 -58.633624       96.8    44 -0.43\n",
       "1308  PG19 2016-02-25 2016-02-17 -62.237672 -58.633624       96.8     8 -0.20\n",
       "1309  PG19 2016-03-10 2016-02-25 -62.237672 -58.633624       96.8    14 -0.45\n",
       "1310  PG19 2016-04-08 2016-03-10 -62.237672 -58.633624       96.8    29 -0.48\n",
       "1311  PG19 2016-04-23 2016-04-08 -62.237672 -58.633624       96.8    15  0.51\n",
       "\n",
       "[1312 rows x 8 columns]"
      ]
     },
     "execution_count": 5,
     "metadata": {},
     "output_type": "execute_result"
    }
   ],
   "source": [
    "smb_four_df = pd.concat(smb_four, ignore_index=True)\n",
    "smb_four_df"
   ]
  },
  {
   "cell_type": "code",
   "execution_count": 6,
   "metadata": {},
   "outputs": [],
   "source": [
    "smb_four_df.to_csv('../data/SMB_fourc.csv', index=False, sep='\\t')"
   ]
  },
  {
   "cell_type": "code",
   "execution_count": 7,
   "metadata": {},
   "outputs": [],
   "source": [
    "cs_file = '../data/SMB_fourc.csv'\n",
    "dfmb = pd.read_csv(cs_file,\n",
    "   delimiter='\\t', index_col=['Date'],\n",
    "    parse_dates=['Date'], na_values='NAN')\n",
    "labels = dfmb.drop_duplicates(subset=['Stake'])"
   ]
  },
  {
   "cell_type": "code",
   "execution_count": 8,
   "metadata": {},
   "outputs": [
    {
     "data": {
      "text/plain": [
       "19"
      ]
     },
     "execution_count": 8,
     "metadata": {},
     "output_type": "execute_result"
    }
   ],
   "source": [
    "len(labels)"
   ]
  },
  {
   "cell_type": "code",
   "execution_count": 9,
   "metadata": {},
   "outputs": [
    {
     "name": "stdout",
     "output_type": "stream",
     "text": [
      "           Stake       Date1   Latitude  Longitude  Elevation  Days   SMB\n",
      "Date                                                                     \n",
      "2010-11-22  PG04  2010-11-22 -62.222118 -58.592014      294.3     0  1.75\n",
      "2010-12-05  PG04  2010-11-22 -62.222118 -58.592014      294.3    13  0.43\n",
      "2010-12-23  PG04  2010-12-05 -62.222118 -58.592014      294.3    18  0.01\n",
      "2011-01-09  PG04  2010-12-23 -62.222118 -58.592014      294.3    17 -0.43\n",
      "2011-01-25  PG04  2011-01-09 -62.222118 -58.592014      294.3    16  0.22\n",
      "2011-03-04  PG04  2011-01-25 -62.222118 -58.592014      294.3    38 -1.21\n",
      "2012-01-24  PG04  2011-03-04 -62.222118 -58.592014      294.3   326  0.89\n",
      "2012-01-27  PG04  2012-01-24 -62.222118 -58.592014      294.3     3 -0.04\n",
      "2013-02-11  PG04  2012-01-27 -62.222118 -58.592014      294.3   381 -0.21\n",
      "2013-02-19  PG04  2013-02-11 -62.222118 -58.592014      294.3     8 -0.08\n",
      "2013-02-27  PG04  2013-02-19 -62.222118 -58.592014      294.3     8  0.03\n",
      "2013-03-06  PG04  2013-02-27 -62.222118 -58.592014      294.3     7 -0.23\n",
      "2014-01-21  PG04  2013-03-06 -62.222118 -58.592014      294.3   321  1.06\n",
      "2014-01-31  PG04  2014-01-21 -62.222118 -58.592014      294.3    10  0.10\n",
      "2014-02-10  PG04  2014-01-31 -62.222118 -58.592014      294.3    10  0.34\n",
      "2014-02-18  PG04  2014-02-10 -62.222118 -58.592014      294.3     8 -0.27\n",
      "2014-02-28  PG04  2014-02-18 -62.222118 -58.592014      294.3    10 -0.05\n",
      "2014-03-10  PG04  2014-02-28 -62.222118 -58.592014      294.3    10 -0.10\n"
     ]
    },
    {
     "data": {
      "image/png": "[encoded data removed]",
      "text/plain": [
       "<Figure size 432x288 with 2 Axes>"
      ]
     },
     "metadata": {
      "needs_background": "light"
     },
     "output_type": "display_data"
    }
   ],
   "source": [
    "fig, ax1 = plt.subplots(1,1,figsize=(6,4))\n",
    "ax2 = ax1.twinx()\n",
    "\n",
    "for i in labels['Stake'][3:4]:\n",
    "    stake = dfmb.loc[lambda df: df['Stake'] == i, :]\n",
    "    print(stake)\n",
    "    ax1.plot(stake['SMB'], 'b-', linewidth=0.5)\n",
    "    ax2.plot(stake['Days'], 'r-', linewidth=0.5)\n",
    "ax1.legend(['SMB'], loc='best')\n",
    "ax1.set_ylabel(u'Surface Mass Balance (m w.e.)')\n",
    "ax1.set_ylim(-4, 4)\n",
    "\n",
    "ax2.legend(['Days'], loc='best')\n",
    "ax2.set_ylabel('Days')\n",
    "ax2.set_ylim(0, 800)\n",
    "fig.autofmt_xdate()\n",
    "fig.savefig('../fig/data_stakes_fourc.png',dpi = 150, bbox_inches = 'tight', \n",
    "             pad_inches = 0.1, facecolor='w')"
   ]
  },
  {
   "cell_type": "code",
   "execution_count": null,
   "metadata": {},
   "outputs": [],
   "source": [
    "stake_sel = []\n",
    "fig, (ax0) = plt.subplots(figsize=(6,4)) \n",
    "for i in labels['Event'].values:\n",
    "    stake = dfmb.loc[lambda df: df['Event'] == i, :].loc['2011-10-01':'2015-10-31']\n",
    "    if len(stake) > 5:\n",
    "        ax0.plot(stake['Diff'].cumsum(),linewidth=0.5, label = i)\n",
    "        stake_sel.append(stake)\n",
    "ax0.set_xlabel('')\n",
    "ax0.set_ylabel('Cumulative Mass Balance (m w.e.)')\n",
    "ax0.set_ylim(-6, 6)\n",
    "ax0.set_xlim(pd.Timestamp('2011-10-01'), pd.Timestamp('2016-05-31'))\n",
    "plt.axhline(0, linewidth=1, color='grey', linestyle =':')\n",
    "plt.xticks(rotation=90)\n",
    "ax0.legend(loc='best',ncol=4, frameon=False)\n",
    "fig.savefig('fig/SMB_sel_2011_2015_new.png',dpi = 200, bbox_inches = 'tight', \n",
    "             pad_inches = 0.1, facecolor='w')"
   ]
  },
  {
   "cell_type": "code",
   "execution_count": null,
   "metadata": {},
   "outputs": [],
   "source": [
    "stake_sel = pd.concat(stake_sel)"
   ]
  },
  {
   "cell_type": "code",
   "execution_count": null,
   "metadata": {},
   "outputs": [],
   "source": [
    "stake_sel.to_csv('../data/loc_stakes_SMB_2011_2015_new.csv', index=True, sep='\\t')"
   ]
  },
  {
   "cell_type": "code",
   "execution_count": null,
   "metadata": {},
   "outputs": [],
   "source": [
    "df = stake_sel.drop_duplicates(subset=['Event'])\n",
    "df.to_csv('../data/loc_stakes_metadate_new.csv', index=False, sep='\\t')"
   ]
  }
 ],
 "metadata": {
  "kernelspec": {
   "display_name": "Python 3",
   "language": "python",
   "name": "python3"
  },
  "language_info": {
   "codemirror_mode": {
    "name": "ipython",
    "version": 3
   },
   "file_extension": ".py",
   "mimetype": "text/x-python",
   "name": "python",
   "nbconvert_exporter": "python",
   "pygments_lexer": "ipython3",
   "version": "3.8.10"
  }
 },
 "nbformat": 4,
 "nbformat_minor": 4
}
