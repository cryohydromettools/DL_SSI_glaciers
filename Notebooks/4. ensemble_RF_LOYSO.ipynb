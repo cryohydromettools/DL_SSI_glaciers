{
 "cells": [
  {
   "cell_type": "code",
   "execution_count": 1,
   "metadata": {},
   "outputs": [],
   "source": [
    "import os\n",
    "import re\n",
    "import joblib\n",
    "import pandas as pd\n",
    "import numpy as np\n",
    "import dateutil\n",
    "from scipy import stats\n",
    "from sklearn.metrics import mean_squared_error\n",
    "import matplotlib.pyplot as plt\n",
    "from scipy.stats import gaussian_kde"
   ]
  },
  {
   "cell_type": "code",
   "execution_count": 2,
   "metadata": {},
   "outputs": [],
   "source": [
    "date_parser = lambda x: dateutil.parser.parse(x, ignoretz=True)"
   ]
  },
  {
   "cell_type": "code",
   "execution_count": 3,
   "metadata": {},
   "outputs": [],
   "source": [
    "dir_ann = '../RF/LOYSO/CV/'\n",
    "models = sorted(os.listdir(dir_ann))"
   ]
  },
  {
   "cell_type": "code",
   "execution_count": 4,
   "metadata": {},
   "outputs": [],
   "source": [
    "def xgb_predictions(X):\n",
    "    predictions = {}\n",
    "    for pkl_file in models:\n",
    "        file_num = int(re.search(r'\\d+', pkl_file).group())\n",
    "        str_model = os.path.join(dir_ann, pkl_file)\n",
    "        xgb = joblib.load(str_model)\n",
    "        y_pred = xgb.predict(X)\n",
    "        predictions[file_num] = y_pred\n",
    "\n",
    "    new_df = pd.DataFrame(predictions)\n",
    "    new_df = new_df[sorted(new_df.columns)]\n",
    "\n",
    "    return new_df"
   ]
  },
  {
   "cell_type": "code",
   "execution_count": 5,
   "metadata": {},
   "outputs": [],
   "source": [
    "# Load data\n",
    "cs_file = '../data/SMB_input_2011_2015.csv'\n",
    "\n",
    "df = pd.read_csv(cs_file,\n",
    "   delimiter='\\t', index_col=['Date/Time'],\n",
    "    parse_dates=['Date/Time'], na_values='NAN',date_parser=date_parser)"
   ]
  },
  {
   "cell_type": "code",
   "execution_count": 7,
   "metadata": {},
   "outputs": [],
   "source": [
    "X = (df.drop(['Diff', 'Event'], axis=1)).to_numpy()\n",
    "y = (df['Diff'].copy()).to_numpy()"
   ]
  },
  {
   "cell_type": "code",
   "execution_count": 8,
   "metadata": {},
   "outputs": [],
   "source": [
    "df_smb = xgb_predictions(X)"
   ]
  },
  {
   "cell_type": "code",
   "execution_count": 9,
   "metadata": {},
   "outputs": [],
   "source": [
    "df_smb = df_smb.mean(axis=1).to_frame()\n",
    "df_smb['OBS'] = y\n",
    "df_smb.rename( columns={0 :'SIM'}, inplace=True )"
   ]
  },
  {
   "cell_type": "code",
   "execution_count": 10,
   "metadata": {},
   "outputs": [],
   "source": [
    "x_aws = df_smb['OBS'].values\n",
    "y_aws = df_smb['SIM'].values"
   ]
  },
  {
   "cell_type": "code",
   "execution_count": 11,
   "metadata": {},
   "outputs": [],
   "source": [
    "slope_aws, intercept_aws, r_value_aws, p_value_aws, std_err_aws = stats.linregress(x_aws,y_aws)"
   ]
  },
  {
   "cell_type": "code",
   "execution_count": 12,
   "metadata": {},
   "outputs": [
    {
     "name": "stdout",
     "output_type": "stream",
     "text": [
      "r-squared: 0.9694169179166863\n",
      "RMSE: 0.052743888804027805\n",
      "N: 1037\n"
     ]
    }
   ],
   "source": [
    "print('r-squared:', r_value_aws**2)\n",
    "print('RMSE:', np.sqrt(mean_squared_error(x_aws,y_aws)))\n",
    "print('N:', len(y_aws))"
   ]
  },
  {
   "cell_type": "code",
   "execution_count": 13,
   "metadata": {},
   "outputs": [],
   "source": [
    "# Calculate the point density\n",
    "xy = np.vstack([x_aws,y_aws])\n",
    "z_aws = gaussian_kde(xy)(xy)"
   ]
  },
  {
   "cell_type": "code",
   "execution_count": 14,
   "metadata": {},
   "outputs": [],
   "source": [
    "dir_ann = '../RF/LOYSO_ERA5/CV/'\n",
    "models = sorted(os.listdir(dir_ann))"
   ]
  },
  {
   "cell_type": "code",
   "execution_count": 15,
   "metadata": {},
   "outputs": [],
   "source": [
    "# Load data\n",
    "cs_file = '../data/SMB_input_2011_2016_ERA5.csv'\n",
    "\n",
    "df = pd.read_csv(cs_file,\n",
    "   delimiter='\\t', index_col=['Date/Time'],\n",
    "    parse_dates=['Date/Time'], na_values='NAN',date_parser=date_parser)"
   ]
  },
  {
   "cell_type": "code",
   "execution_count": 16,
   "metadata": {},
   "outputs": [],
   "source": [
    "X = (df.drop(['Diff', 'Event'], axis=1)).to_numpy()\n",
    "y = (df['Diff'].copy()).to_numpy()"
   ]
  },
  {
   "cell_type": "code",
   "execution_count": 17,
   "metadata": {},
   "outputs": [],
   "source": [
    "df_smb = xgb_predictions(X)"
   ]
  },
  {
   "cell_type": "code",
   "execution_count": 18,
   "metadata": {},
   "outputs": [],
   "source": [
    "df_smb = df_smb.mean(axis=1).to_frame()\n",
    "df_smb['OBS'] = y\n",
    "df_smb.rename( columns={0 :'SIM'}, inplace=True )"
   ]
  },
  {
   "cell_type": "code",
   "execution_count": 19,
   "metadata": {},
   "outputs": [],
   "source": [
    "x_era = df_smb['OBS'].values\n",
    "y_era = df_smb['SIM'].values"
   ]
  },
  {
   "cell_type": "code",
   "execution_count": 20,
   "metadata": {},
   "outputs": [],
   "source": [
    "slope_era, intercept_era, r_value_era, p_value_era, std_err_era = stats.linregress(x_era,y_era)"
   ]
  },
  {
   "cell_type": "code",
   "execution_count": 21,
   "metadata": {},
   "outputs": [
    {
     "name": "stdout",
     "output_type": "stream",
     "text": [
      "r-squared: 0.9662882429098892\n",
      "RMSE: 0.057889021458647265\n",
      "N: 1131\n"
     ]
    }
   ],
   "source": [
    "print('r-squared:', r_value_era**2)\n",
    "print('RMSE:', np.sqrt(mean_squared_error(x_era,y_era)))\n",
    "print('N:', len(y_era))"
   ]
  },
  {
   "cell_type": "code",
   "execution_count": 22,
   "metadata": {},
   "outputs": [],
   "source": [
    "# Calculate the point density\n",
    "xy = np.vstack([x_era,y_era])\n",
    "z_era = gaussian_kde(xy)(xy)"
   ]
  },
  {
   "cell_type": "code",
   "execution_count": 23,
   "metadata": {},
   "outputs": [],
   "source": [
    "x_int = np.arange(-3,2,0.1)"
   ]
  },
  {
   "cell_type": "code",
   "execution_count": 24,
   "metadata": {},
   "outputs": [
    {
     "data": {
      "image/png": "[encoded data removed]",
      "text/plain": [
       "<Figure size 720x288 with 4 Axes>"
      ]
     },
     "metadata": {
      "needs_background": "light"
     },
     "output_type": "display_data"
    }
   ],
   "source": [
    "fig, (ax, ax1) = plt.subplots(1,2,figsize=(10,4))\n",
    "\n",
    "density = ax.scatter(x_aws, y_aws, c=z_aws, s=20, vmin=0, vmax=30)\n",
    "ax.plot(x_int, intercept_aws + slope_aws * x_int, linewidth=0.8, color='k', linestyle ='-')\n",
    "fig.colorbar(density, ax=ax)\n",
    "ax.set_title('AWS predictors')\n",
    "ax.set_xlabel('Reference SMB data (m w.e.)')\n",
    "ax.set_ylabel('SMB modelled with RF (m w.e.)')\n",
    "ax.set_ylim(-2.5, 1)\n",
    "ax.set_xlim(-2.5, 1)\n",
    "ax.text(-2.2, 0.65,'RMSE'+' = '+str(round(np.sqrt(mean_squared_error(x_aws,y_aws)),2))+' '+'m w.e.', fontsize=12)\n",
    "ax.text(-2.2, 0.35,'r$^{2}$'+' = '+str(round(r_value_aws**2,2)), fontsize=12)\n",
    "ax.text(0.5, -2.25,'(a)', fontsize=14)\n",
    "\n",
    "density = ax1.scatter(x_era, y_era, c=z_era, s=20, vmin=0, vmax=30)\n",
    "ax1.plot(x_int, intercept_era + slope_era * x_int, linewidth=0.8, color='k', linestyle ='-')\n",
    "fig.colorbar(density, ax=ax1)\n",
    "ax1.set_title('ERA5 predictors')\n",
    "ax1.set_xlabel('Reference SMB data (m w.e.)')\n",
    "ax1.set_ylabel('SMB modelled with RF (m w.e.)')\n",
    "ax1.set_ylim(-2.5, 1)\n",
    "ax1.set_xlim(-2.5, 1)\n",
    "ax1.text(-2.2, 0.65,'RMSE'+' = '+str(round(np.sqrt(mean_squared_error(x_era,y_era)),2))+' '+'m w.e.', fontsize=12)\n",
    "ax1.text(-2.2, 0.35,'r$^{2}$'+' = '+str(round(r_value_era**2,2)), fontsize=12)\n",
    "ax1.text(0.5, -2.25,'(b)', fontsize=14)\n",
    "\n",
    "\n",
    "fig.savefig('../fig/scatter_plot_RF.png',dpi = 200, bbox_inches = 'tight', \n",
    "             pad_inches = 0.1, facecolor='w')"
   ]
  }
 ],
 "metadata": {
  "kernelspec": {
   "display_name": "DL_SMB",
   "language": "python",
   "name": "dl_smb"
  },
  "language_info": {
   "codemirror_mode": {
    "name": "ipython",
    "version": 3
   },
   "file_extension": ".py",
   "mimetype": "text/x-python",
   "name": "python",
   "nbconvert_exporter": "python",
   "pygments_lexer": "ipython3",
   "version": "3.10.5"
  }
 },
 "nbformat": 4,
 "nbformat_minor": 4
}
