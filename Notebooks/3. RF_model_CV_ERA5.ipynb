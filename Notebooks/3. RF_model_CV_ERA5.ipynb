{
 "cells": [
  {
   "cell_type": "code",
   "execution_count": 23,
   "metadata": {},
   "outputs": [],
   "source": [
    "import pandas as pd\n",
    "import numpy as np\n",
    "from sklearn.model_selection import LeaveOneGroupOut\n",
    "from sklearn.ensemble import RandomForestRegressor\n",
    "from sklearn.model_selection import RandomizedSearchCV\n",
    "from sklearn.model_selection import train_test_split\n",
    "import joblib\n",
    "from sklearn.metrics import mean_squared_error\n",
    "import warnings\n",
    "warnings.filterwarnings('ignore')"
   ]
  },
  {
   "cell_type": "code",
   "execution_count": 42,
   "metadata": {},
   "outputs": [],
   "source": [
    "def RF_model():\n",
    "    param_grid = [{'n_estimators': [5, 10, 20, 40], 'max_features': [2, 4, 6, 8]},\n",
    "                  {'bootstrap': [False], 'n_estimators': [3, 10], \n",
    "                   'max_features': [2, 3, 4]},]\n",
    "    forest_reg = RandomForestRegressor()\n",
    "    grid_search = RandomizedSearchCV(forest_reg, param_grid, cv=3, \n",
    "                               scoring='neg_mean_squared_error',\n",
    "                               return_train_score=True, n_iter=50)\n",
    "    return grid_search"
   ]
  },
  {
   "cell_type": "code",
   "execution_count": 60,
   "metadata": {},
   "outputs": [],
   "source": [
    "# Load data\n",
    "cs_file = '../data/SMB_input_four_ERA5.csv'\n",
    "\n",
    "df = pd.read_csv(cs_file,\n",
    "   delimiter='\\t', index_col=['Date'],\n",
    "    parse_dates=['Date'], na_values='NAN')\n",
    "labels = df.drop_duplicates(subset=['Stake'])"
   ]
  },
  {
   "cell_type": "code",
   "execution_count": null,
   "metadata": {},
   "outputs": [],
   "source": []
  },
  {
   "cell_type": "code",
   "execution_count": 53,
   "metadata": {},
   "outputs": [
    {
     "data": {
      "text/plain": [
       "1312"
      ]
     },
     "execution_count": 53,
     "metadata": {},
     "output_type": "execute_result"
    }
   ],
   "source": [
    "df['Stake'].count()"
   ]
  },
  {
   "cell_type": "code",
   "execution_count": 12,
   "metadata": {},
   "outputs": [],
   "source": [
    "loso = LeaveOneGroupOut()\n",
    "groups = df['Stake'].values"
   ]
  },
  {
   "cell_type": "code",
   "execution_count": 43,
   "metadata": {},
   "outputs": [],
   "source": [
    "X = (df.drop(['SMB', 'Stake'], axis=1)).to_numpy()\n",
    "y = (df['SMB'].copy()).to_numpy()"
   ]
  },
  {
   "cell_type": "code",
   "execution_count": 26,
   "metadata": {},
   "outputs": [],
   "source": [
    "#X_train, X_test, y_train, y_test = train_test_split(X, y, test_size=0.3)"
   ]
  },
  {
   "cell_type": "code",
   "execution_count": 38,
   "metadata": {},
   "outputs": [],
   "source": [
    "#model = RF_model().fit(X_train, y_train)"
   ]
  },
  {
   "cell_type": "code",
   "execution_count": 18,
   "metadata": {},
   "outputs": [],
   "source": [
    "# Leave-One-Stake-Out\n",
    "i = 1\n",
    "test_rmse = []\n",
    "for train_index, test_index in loso.split(X, y, groups):\n",
    "    X_train, X_test = X[train_index], X[test_index]\n",
    "    y_train, y_test = y[train_index], y[test_index]\n",
    "    model = RF_model().fit(X_train, y_train)\n",
    "    joblib.dump(model, '../RF/LOSO_ERA5/CV/stake_'+str(i)+'_model.h5')\n",
    "    grid_ytest_p = model.predict(X_test)\n",
    "    grid_test_mse = mean_squared_error(y_test, grid_ytest_p)\n",
    "    grid_test_rmse = np.sqrt(grid_test_mse)\n",
    "    test_rmse.append(grid_test_rmse)\n",
    "    i= i+1"
   ]
  },
  {
   "cell_type": "code",
   "execution_count": 41,
   "metadata": {},
   "outputs": [],
   "source": [
    "#results = ['mean_test_score', 'mean_train_score']\n",
    "#pd.DataFrame(model.cv_results_)[results].plot()\n"
   ]
  },
  {
   "cell_type": "code",
   "execution_count": 51,
   "metadata": {},
   "outputs": [
    {
     "name": "stdout",
     "output_type": "stream",
     "text": [
      "              RMSE\n",
      "PG01      0.999659\n",
      "PG02      1.215284\n",
      "PG03      0.605289\n",
      "PG04      0.372329\n",
      "PG05      0.198193\n",
      "PG06      0.157690\n",
      "PG07      0.302564\n",
      "PG08      0.140409\n",
      "PG09      0.134835\n",
      "PG11      0.982713\n",
      "PG12      1.136573\n",
      "PG13      0.822319\n",
      "PG14      0.417264\n",
      "PG15      0.192951\n",
      "PG16_AWS  0.195542\n",
      "PG16      0.186094\n",
      "PG17      0.146144\n",
      "PG18      0.119726\n",
      "PG19      0.195991\n"
     ]
    }
   ],
   "source": [
    "test_rmse = pd.DataFrame(test_rmse, columns={'RMSE'}, index=labels.Stake.values)\n",
    "print(test_rmse)"
   ]
  },
  {
   "cell_type": "code",
   "execution_count": 9,
   "metadata": {},
   "outputs": [],
   "source": [
    "df['Year'] = df.index.year"
   ]
  },
  {
   "cell_type": "code",
   "execution_count": 10,
   "metadata": {},
   "outputs": [],
   "source": [
    "loyo = LeaveOneGroupOut()\n",
    "groups = df['Year'].values"
   ]
  },
  {
   "cell_type": "code",
   "execution_count": 11,
   "metadata": {},
   "outputs": [],
   "source": [
    "X = (df.drop(['Diff', 'Event', 'Year'], axis=1)).to_numpy()\n",
    "y = (df['Diff'].copy()).to_numpy()"
   ]
  },
  {
   "cell_type": "code",
   "execution_count": 12,
   "metadata": {},
   "outputs": [],
   "source": [
    "# Leave-One-Year-Out\n",
    "i = 1\n",
    "test_rmse = []\n",
    "for train_index, test_index in loso.split(X, y, groups):\n",
    "    X_train, X_test = X[train_index], X[test_index]\n",
    "    y_train, y_test = y[train_index], y[test_index]\n",
    "    model = RF_model().fit(X_train, y_train)\n",
    "    joblib.dump(model, 'RF/LOYO_ERA5/CV/year_'+str(i)+'_model.h5')\n",
    "    grid_ytest_p = model.predict(X_test)\n",
    "    grid_test_mse = mean_squared_error(y_test, grid_ytest_p)\n",
    "    grid_test_rmse = np.sqrt(grid_test_mse)\n",
    "    test_rmse.append(grid_test_rmse)\n",
    "    i= i+1"
   ]
  },
  {
   "cell_type": "code",
   "execution_count": 13,
   "metadata": {},
   "outputs": [
    {
     "name": "stdout",
     "output_type": "stream",
     "text": [
      "[1.4102063112459033, 0.35497295244806604, 0.18113917301345947, 0.1757775724900486, 0.2141380499625807, 0.23527462880969222]\n"
     ]
    }
   ],
   "source": [
    "print(test_rmse)"
   ]
  },
  {
   "cell_type": "code",
   "execution_count": 14,
   "metadata": {},
   "outputs": [],
   "source": [
    "X = (df.drop(['Diff', 'Event', 'Year'], axis=1)).to_numpy()\n",
    "y = (df['Diff'].copy()).to_numpy()"
   ]
  },
  {
   "cell_type": "code",
   "execution_count": 15,
   "metadata": {},
   "outputs": [],
   "source": [
    "groups = df['Event'].values\n",
    "years = df.drop_duplicates(subset=['Year'])['Year'].values"
   ]
  },
  {
   "cell_type": "code",
   "execution_count": 16,
   "metadata": {},
   "outputs": [],
   "source": [
    "i = 1 \n",
    "test_rmse = []\n",
    "for year, (train_index, test_index) in zip(years, loso.split(X, y, groups)):\n",
    "    X_train, X_test = X[train_index], X[test_index]\n",
    "    y_train, y_test = y[train_index], y[test_index]\n",
    "    model = RF_model().fit(X_train, y_train)\n",
    "    joblib.dump(model, '../RF/LOYSO_ERA5/CV/year_stake_'+str(i)+'_model.h5')\n",
    "    grid_ytest_p = model.predict(X_test)\n",
    "    grid_test_mse = mean_squared_error(y_test, grid_ytest_p)\n",
    "    grid_test_rmse = np.sqrt(grid_test_mse)\n",
    "    test_rmse.append(grid_test_rmse)\n",
    "    i= i+1    "
   ]
  },
  {
   "cell_type": "code",
   "execution_count": 17,
   "metadata": {},
   "outputs": [
    {
     "name": "stdout",
     "output_type": "stream",
     "text": [
      "[0.1442193036000612, 0.10786149959628753, 0.10557686807243281, 0.15108059605885032, 0.125036124497064, 0.19394623220978563]\n"
     ]
    }
   ],
   "source": [
    "print(test_rmse)"
   ]
  },
  {
   "cell_type": "code",
   "execution_count": null,
   "metadata": {},
   "outputs": [],
   "source": []
  }
 ],
 "metadata": {
  "kernelspec": {
   "display_name": "DL_SMB",
   "language": "python",
   "name": "dl_smb"
  },
  "language_info": {
   "codemirror_mode": {
    "name": "ipython",
    "version": 3
   },
   "file_extension": ".py",
   "mimetype": "text/x-python",
   "name": "python",
   "nbconvert_exporter": "python",
   "pygments_lexer": "ipython3",
   "version": "3.10.5"
  }
 },
 "nbformat": 4,
 "nbformat_minor": 4
}
