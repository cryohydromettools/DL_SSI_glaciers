{
 "cells": [
  {
   "cell_type": "code",
   "execution_count": 1,
   "metadata": {},
   "outputs": [],
   "source": [
    "import pandas as pd\n",
    "import dateutil\n",
    "import numpy as np\n",
    "from sklearn.model_selection import LeaveOneGroupOut\n",
    "from sklearn.ensemble import RandomForestRegressor\n",
    "from sklearn.model_selection import RandomizedSearchCV\n",
    "import joblib\n",
    "from sklearn.metrics import mean_squared_error\n",
    "import warnings\n",
    "warnings.filterwarnings('ignore')"
   ]
  },
  {
   "cell_type": "code",
   "execution_count": 2,
   "metadata": {},
   "outputs": [],
   "source": [
    "date_parser = lambda x: dateutil.parser.parse(x, ignoretz=True)"
   ]
  },
  {
   "cell_type": "code",
   "execution_count": 3,
   "metadata": {},
   "outputs": [],
   "source": [
    "def RF_model():\n",
    "    param_grid = [{'n_estimators': [5, 10, 20, 40], 'max_features': [2, 4, 6, 8]},\n",
    "                  {'bootstrap': [False], 'n_estimators': [3, 10], \n",
    "                   'max_features': [2, 3, 4]},]\n",
    "    forest_reg = RandomForestRegressor()\n",
    "    grid_search = RandomizedSearchCV(forest_reg, param_grid, cv=5, \n",
    "                               scoring='neg_mean_squared_error',\n",
    "                               return_train_score=True, n_iter=10)\n",
    "    return grid_search"
   ]
  },
  {
   "cell_type": "code",
   "execution_count": 4,
   "metadata": {},
   "outputs": [],
   "source": [
    "# Load data\n",
    "cs_file = '../data/SMB_input_2011_2016_ERA5.csv'\n",
    "\n",
    "df = pd.read_csv(cs_file,\n",
    "   delimiter='\\t', index_col=['Date/Time'],\n",
    "    parse_dates=['Date/Time'], na_values='NAN',date_parser=date_parser)"
   ]
  },
  {
   "cell_type": "code",
   "execution_count": 5,
   "metadata": {},
   "outputs": [],
   "source": [
    "loso = LeaveOneGroupOut()\n",
    "groups = df['Event'].values"
   ]
  },
  {
   "cell_type": "code",
   "execution_count": 6,
   "metadata": {},
   "outputs": [],
   "source": [
    "X = (df.drop(['Diff', 'Event'], axis=1)).to_numpy()\n",
    "y = (df['Diff'].copy()).to_numpy()"
   ]
  },
  {
   "cell_type": "code",
   "execution_count": 7,
   "metadata": {},
   "outputs": [],
   "source": [
    "# Leave-One-Stake-Out\n",
    "i = 1\n",
    "test_rmse = []\n",
    "for train_index, test_index in loso.split(X, y, groups):\n",
    "    X_train, X_test = X[train_index], X[test_index]\n",
    "    y_train, y_test = y[train_index], y[test_index]\n",
    "    model = RF_model().fit(X_train, y_train)\n",
    "    joblib.dump(model, '../RF/LOSO_ERA5/CV/stake_'+str(i)+'_model.h5')\n",
    "    grid_ytest_p = model.predict(X_test)\n",
    "    grid_test_mse = mean_squared_error(y_test, grid_ytest_p)\n",
    "    grid_test_rmse = np.sqrt(grid_test_mse)\n",
    "    test_rmse.append(grid_test_rmse)\n",
    "    i= i+1"
   ]
  },
  {
   "cell_type": "code",
   "execution_count": 8,
   "metadata": {},
   "outputs": [
    {
     "name": "stdout",
     "output_type": "stream",
     "text": [
      "[0.12420285065353819, 0.11565877884968351, 0.1019103143958127, 0.14600145385680888, 0.12988550836416995, 0.18585716727612894, 0.1681039047557125, 0.11613826769080993, 0.1051153691221606, 0.103623613192212, 0.1525557200055836]\n"
     ]
    }
   ],
   "source": [
    "print(test_rmse)"
   ]
  },
  {
   "cell_type": "code",
   "execution_count": 9,
   "metadata": {},
   "outputs": [],
   "source": [
    "df['Year'] = df.index.year"
   ]
  },
  {
   "cell_type": "code",
   "execution_count": 10,
   "metadata": {},
   "outputs": [],
   "source": [
    "loyo = LeaveOneGroupOut()\n",
    "groups = df['Year'].values"
   ]
  },
  {
   "cell_type": "code",
   "execution_count": 11,
   "metadata": {},
   "outputs": [],
   "source": [
    "X = (df.drop(['Diff', 'Event', 'Year'], axis=1)).to_numpy()\n",
    "y = (df['Diff'].copy()).to_numpy()"
   ]
  },
  {
   "cell_type": "code",
   "execution_count": 12,
   "metadata": {},
   "outputs": [],
   "source": [
    "# Leave-One-Year-Out\n",
    "i = 1\n",
    "test_rmse = []\n",
    "for train_index, test_index in loso.split(X, y, groups):\n",
    "    X_train, X_test = X[train_index], X[test_index]\n",
    "    y_train, y_test = y[train_index], y[test_index]\n",
    "    model = RF_model().fit(X_train, y_train)\n",
    "    joblib.dump(model, 'RF/LOYO_ERA5/CV/year_'+str(i)+'_model.h5')\n",
    "    grid_ytest_p = model.predict(X_test)\n",
    "    grid_test_mse = mean_squared_error(y_test, grid_ytest_p)\n",
    "    grid_test_rmse = np.sqrt(grid_test_mse)\n",
    "    test_rmse.append(grid_test_rmse)\n",
    "    i= i+1"
   ]
  },
  {
   "cell_type": "code",
   "execution_count": 13,
   "metadata": {},
   "outputs": [
    {
     "name": "stdout",
     "output_type": "stream",
     "text": [
      "[1.4102063112459033, 0.35497295244806604, 0.18113917301345947, 0.1757775724900486, 0.2141380499625807, 0.23527462880969222]\n"
     ]
    }
   ],
   "source": [
    "print(test_rmse)"
   ]
  },
  {
   "cell_type": "code",
   "execution_count": 14,
   "metadata": {},
   "outputs": [],
   "source": [
    "X = (df.drop(['Diff', 'Event', 'Year'], axis=1)).to_numpy()\n",
    "y = (df['Diff'].copy()).to_numpy()"
   ]
  },
  {
   "cell_type": "code",
   "execution_count": 15,
   "metadata": {},
   "outputs": [],
   "source": [
    "groups = df['Event'].values\n",
    "years = df.drop_duplicates(subset=['Year'])['Year'].values"
   ]
  },
  {
   "cell_type": "code",
   "execution_count": 16,
   "metadata": {},
   "outputs": [],
   "source": [
    "i = 1 \n",
    "test_rmse = []\n",
    "for year, (train_index, test_index) in zip(years, loso.split(X, y, groups)):\n",
    "    X_train, X_test = X[train_index], X[test_index]\n",
    "    y_train, y_test = y[train_index], y[test_index]\n",
    "    model = RF_model().fit(X_train, y_train)\n",
    "    joblib.dump(model, '../RF/LOYSO_ERA5/CV/year_stake_'+str(i)+'_model.h5')\n",
    "    grid_ytest_p = model.predict(X_test)\n",
    "    grid_test_mse = mean_squared_error(y_test, grid_ytest_p)\n",
    "    grid_test_rmse = np.sqrt(grid_test_mse)\n",
    "    test_rmse.append(grid_test_rmse)\n",
    "    i= i+1    "
   ]
  },
  {
   "cell_type": "code",
   "execution_count": 17,
   "metadata": {},
   "outputs": [
    {
     "name": "stdout",
     "output_type": "stream",
     "text": [
      "[0.1442193036000612, 0.10786149959628753, 0.10557686807243281, 0.15108059605885032, 0.125036124497064, 0.19394623220978563]\n"
     ]
    }
   ],
   "source": [
    "print(test_rmse)"
   ]
  },
  {
   "cell_type": "code",
   "execution_count": null,
   "metadata": {},
   "outputs": [],
   "source": []
  }
 ],
 "metadata": {
  "kernelspec": {
   "display_name": "DL_SMB",
   "language": "python",
   "name": "dl_smb"
  },
  "language_info": {
   "codemirror_mode": {
    "name": "ipython",
    "version": 3
   },
   "file_extension": ".py",
   "mimetype": "text/x-python",
   "name": "python",
   "nbconvert_exporter": "python",
   "pygments_lexer": "ipython3",
   "version": "3.10.5"
  }
 },
 "nbformat": 4,
 "nbformat_minor": 4
}
